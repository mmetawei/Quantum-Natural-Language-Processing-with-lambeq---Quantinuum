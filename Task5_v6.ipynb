{
 "cells": [
  {
   "cell_type": "markdown",
   "id": "233306a9-df4e-4132-a70e-d4b6324b3a97",
   "metadata": {},
   "source": [
    "## Task5: Putting it All Together and formulating the QNLP model <br>\n",
    "In this task, a new class is defined called \"ClassificationModel\" that is a subclass of the NumpyModel <br>\n",
    "The main idea was to implement the forward method that evalautes a pair of circuits and compare between them <br>\n",
    "No change is made in the loss or accuracy evaluation methods <br>"
   ]
  },
  {
   "cell_type": "code",
   "execution_count": 1,
   "id": "7284b743-256f-4108-8ff5-4ce731585af4",
   "metadata": {},
   "outputs": [],
   "source": [
    "import warnings\n",
    "warnings.filterwarnings(\"ignore\")\n",
    "\n",
    "import os\n",
    "os.environ[\"TOKENIZERS_PARALLELISM\"] = \"false\""
   ]
  },
  {
   "cell_type": "code",
   "execution_count": 2,
   "id": "547f6d4f-238f-46fd-9a88-da2e2a21a178",
   "metadata": {},
   "outputs": [],
   "source": [
    "import numpy as np\n",
    "\n",
    "BATCH_SIZE = 50\n",
    "EPOCHS = 120\n",
    "SEED = 2"
   ]
  },
  {
   "cell_type": "code",
   "execution_count": 3,
   "id": "78529538-0e6b-4b19-9d98-2b7538171cb7",
   "metadata": {},
   "outputs": [],
   "source": [
    "def read_data(filename):\n",
    "    labels, sentences1, sentences2 = [], [], []\n",
    "    with open(filename) as f:\n",
    "        for line in f:\n",
    "            split_list = line.split(\",\")\n",
    "            t = int(split_list[2])\n",
    "            labels.append(t)\n",
    "            sentences1.append(split_list[0])\n",
    "            sentences2.append(split_list[1])\n",
    "    return labels, sentences1, sentences2\n",
    "\n",
    "all_labels, all_sentences1, all_sentences2 = read_data('MC1.TXT')\n",
    "all_data = list(zip(all_sentences1[0:80], all_sentences2[0:80]))\n",
    "\n",
    "train_labels, train_data1, train_data2 = all_labels[0: 80], all_sentences1[0: 80], all_sentences2[0: 80]\n",
    "test_labels, test_data1, test_data2 = all_labels[80: 100], all_sentences1[80: 100], all_sentences2[80: 100]\n",
    "test_data =  list(zip(all_sentences1[80:100], all_sentences2[80:100]))\n"
   ]
  },
  {
   "cell_type": "code",
   "execution_count": 4,
   "id": "5c9f7970-e7ae-4cfa-a819-f262e50650b2",
   "metadata": {},
   "outputs": [
    {
     "name": "stderr",
     "output_type": "stream",
     "text": [
      "Tagging sentences.\n",
      "Parsing tagged sentences.\n",
      "Turning parse trees to diagrams.\n",
      "Tagging sentences.\n",
      "Parsing tagged sentences.\n",
      "Turning parse trees to diagrams.\n",
      "Tagging sentences.\n",
      "Parsing tagged sentences.\n",
      "Turning parse trees to diagrams.\n",
      "Tagging sentences.\n",
      "Parsing tagged sentences.\n",
      "Turning parse trees to diagrams.\n"
     ]
    }
   ],
   "source": [
    "from lambeq import BobcatParser\n",
    "\n",
    "parser = BobcatParser(verbose='text')\n",
    "\n",
    "raw_train_sentences1_diagrams = parser.sentences2diagrams(train_data1)\n",
    "raw_test_sentences1_diagrams = parser.sentences2diagrams(test_data1)\n",
    "raw_train_sentences2_diagrams = parser.sentences2diagrams(train_data2)\n",
    "raw_test_sentences2_diagrams = parser.sentences2diagrams(test_data2)"
   ]
  },
  {
   "cell_type": "code",
   "execution_count": 5,
   "id": "5e0c7c8b-78be-4d80-ade5-13ab7bf8795e",
   "metadata": {},
   "outputs": [],
   "source": [
    "from lambeq import remove_cups\n",
    "\n",
    "train_s1_diagrams = [remove_cups(diagram) for diagram in raw_train_sentences1_diagrams]\n",
    "\n",
    "test_s1_diagrams = [remove_cups(diagram) for diagram in raw_test_sentences1_diagrams]\n",
    "\n",
    "train_s2_diagrams = [remove_cups(diagram) for diagram in raw_train_sentences2_diagrams]\n",
    "\n",
    "test_s2_diagrams = [remove_cups(diagram) for diagram in raw_test_sentences2_diagrams]"
   ]
  },
  {
   "cell_type": "code",
   "execution_count": 6,
   "id": "3af9e016-e86b-4108-addf-8a8ed51c102d",
   "metadata": {
    "tags": []
   },
   "outputs": [],
   "source": [
    "from lambeq import AtomicType, IQPAnsatz\n",
    "\n",
    "ansatz = IQPAnsatz({AtomicType.NOUN: 1, AtomicType.SENTENCE: 1},\n",
    "                   n_layers=2, n_single_qubit_params=3)\n",
    "\n",
    "train_s1_circuits = [ansatz(diagram) for diagram in train_s1_diagrams]\n",
    "\n",
    "test_s1_circuits = [ansatz(diagram) for diagram in test_s1_diagrams]\n",
    "\n",
    "train_s2_circuits = [ansatz(diagram) for diagram in train_s2_diagrams]\n",
    "\n",
    "test_s2_circuits = [ansatz(diagram) for diagram in test_s2_diagrams]\n",
    "\n",
    "train_circuits = train_s1_circuits + train_s2_circuits\n",
    "test_circuits =  test_s1_circuits + test_s2_circuits\n",
    "all_circuits_lst = train_circuits + test_circuits\n",
    "all_train_data = list(zip((list(zip(train_s1_circuits, train_s2_circuits))), train_labels))\n",
    "all_test_data =  list(zip(list(zip(test_s1_circuits, test_s2_circuits)), test_labels))\n",
    "all_data = all_train_data + all_test_data"
   ]
  },
  {
   "cell_type": "code",
   "execution_count": 7,
   "id": "b0758d58-3ead-4086-a43b-0b28d8f5c04e",
   "metadata": {},
   "outputs": [
    {
     "data": {
      "text/html": [
       "\n",
       "\n",
       "\n",
       "\n",
       "\n",
       "\n",
       "<iframe srcdoc=\"\n",
       "&lt;!DOCTYPE html&gt;\n",
       "&lt;html lang=&#34;en&#34;&gt;\n",
       "&lt;head&gt;\n",
       "    &lt;meta charset=&#34;UTF-8&#34;&gt;\n",
       "\n",
       "    &lt;script type=&#34;application/javascript&#34; src=&#34;https://cdn.jsdelivr.net/npm/vue@3&#34;&gt;&lt;/script&gt;\n",
       "    &lt;script type=&#34;application/javascript&#34; src=&#34;https://unpkg.com/pytket-circuit-renderer@0.2/dist/pytket-circuit-renderer.umd.js&#34;&gt;&lt;/script&gt;\n",
       "    &lt;link rel=&#34;stylesheet&#34; href=&#34;https://unpkg.com/pytket-circuit-renderer@0.2/dist/pytket-circuit-renderer.css&#34;&gt;\n",
       "&lt;/head&gt;\n",
       "&lt;body&gt;\n",
       "    &lt;div id=&#34;circuit-display-vue-container-f735acdf-8125-459f-849e-3e68cdde90b9&#34; class=&#34;pytket-circuit-display-container&#34;&gt;\n",
       "        &lt;div style=&#34;display: none&#34;&gt;\n",
       "            &lt;div id=&#34;circuit-json-to-display&#34;&gt;{&#34;bits&#34;: [[&#34;c&#34;, [0]], [&#34;c&#34;, [1]]], &#34;commands&#34;: [{&#34;args&#34;: [[&#34;q&#34;, [0]]], &#34;op&#34;: {&#34;type&#34;: &#34;H&#34;}}, {&#34;args&#34;: [[&#34;q&#34;, [1]]], &#34;op&#34;: {&#34;type&#34;: &#34;H&#34;}}, {&#34;args&#34;: [[&#34;q&#34;, [2]]], &#34;op&#34;: {&#34;type&#34;: &#34;H&#34;}}, {&#34;args&#34;: [[&#34;q&#34;, [0]], [&#34;q&#34;, [1]]], &#34;op&#34;: {&#34;params&#34;: [&#34;2*creates__n.r@s@n.l_0&#34;], &#34;type&#34;: &#34;CRz&#34;}}, {&#34;args&#34;: [[&#34;q&#34;, [0]]], &#34;op&#34;: {&#34;type&#34;: &#34;H&#34;}}, {&#34;args&#34;: [[&#34;q&#34;, [1]], [&#34;q&#34;, [2]]], &#34;op&#34;: {&#34;params&#34;: [&#34;2*creates__n.r@s@n.l_1&#34;], &#34;type&#34;: &#34;CRz&#34;}}, {&#34;args&#34;: [[&#34;q&#34;, [1]]], &#34;op&#34;: {&#34;type&#34;: &#34;H&#34;}}, {&#34;args&#34;: [[&#34;q&#34;, [2]]], &#34;op&#34;: {&#34;type&#34;: &#34;H&#34;}}, {&#34;args&#34;: [[&#34;q&#34;, [0]], [&#34;q&#34;, [1]]], &#34;op&#34;: {&#34;params&#34;: [&#34;2*creates__n.r@s@n.l_2&#34;], &#34;type&#34;: &#34;CRz&#34;}}, {&#34;args&#34;: [[&#34;q&#34;, [0]]], &#34;op&#34;: {&#34;params&#34;: [&#34;2*chef__n_2&#34;], &#34;type&#34;: &#34;Rx&#34;}}, {&#34;args&#34;: [[&#34;q&#34;, [1]], [&#34;q&#34;, [2]]], &#34;op&#34;: {&#34;params&#34;: [&#34;2*creates__n.r@s@n.l_3&#34;], &#34;type&#34;: &#34;CRz&#34;}}, {&#34;args&#34;: [[&#34;q&#34;, [0]]], &#34;op&#34;: {&#34;params&#34;: [&#34;2*chef__n_1&#34;], &#34;type&#34;: &#34;Rz&#34;}}, {&#34;args&#34;: [[&#34;q&#34;, [2]]], &#34;op&#34;: {&#34;params&#34;: [&#34;2*dish__n_2&#34;], &#34;type&#34;: &#34;Rx&#34;}}, {&#34;args&#34;: [[&#34;q&#34;, [0]]], &#34;op&#34;: {&#34;params&#34;: [&#34;2*chef__n_0&#34;], &#34;type&#34;: &#34;Rx&#34;}}, {&#34;args&#34;: [[&#34;q&#34;, [2]]], &#34;op&#34;: {&#34;params&#34;: [&#34;2*dish__n_1&#34;], &#34;type&#34;: &#34;Rz&#34;}}, {&#34;args&#34;: [[&#34;q&#34;, [0]], [&#34;c&#34;, [1]]], &#34;op&#34;: {&#34;type&#34;: &#34;Measure&#34;}}, {&#34;args&#34;: [[&#34;q&#34;, [2]]], &#34;op&#34;: {&#34;params&#34;: [&#34;2*dish__n_0&#34;], &#34;type&#34;: &#34;Rx&#34;}}, {&#34;args&#34;: [[&#34;q&#34;, [2]], [&#34;c&#34;, [0]]], &#34;op&#34;: {&#34;type&#34;: &#34;Measure&#34;}}], &#34;implicit_permutation&#34;: [[[&#34;q&#34;, [0]], [&#34;q&#34;, [0]]], [[&#34;q&#34;, [1]], [&#34;q&#34;, [1]]], [[&#34;q&#34;, [2]], [&#34;q&#34;, [2]]]], &#34;phase&#34;: &#34;0.0&#34;, &#34;qubits&#34;: [[&#34;q&#34;, [0]], [&#34;q&#34;, [1]], [&#34;q&#34;, [2]]]}&lt;/div&gt;\n",
       "        &lt;/div&gt;\n",
       "        &lt;circuit-display-container :circuit-element-str=&#34;&#39;#circuit-json-to-display&#39;&#34;&gt;&lt;/circuit-display-container&gt;\n",
       "    &lt;/div&gt;\n",
       "\n",
       "    &lt;script type=&#34;application/javascript&#34;&gt;\n",
       "        const { createApp } = Vue;\n",
       "        const circuitDisplayContainer = window[&#34;pytket-circuit-renderer&#34;].default;\n",
       "\n",
       "        // Init variables to be shared between circuit display instances\n",
       "        if (typeof window.pytketCircuitDisplays === &#34;undefined&#34;) {\n",
       "            window.pytketCircuitDisplays = {};\n",
       "        }\n",
       "\n",
       "        const uid = &#34;f735acdf-8125-459f-849e-3e68cdde90b9&#34;;\n",
       "\n",
       "        // Create the root Vue component\n",
       "        window.pytketCircuitDisplays[uid] = createApp({\n",
       "            delimiters: [&#39;[[#&#39;, &#39;#]]&#39;],\n",
       "            components: { circuitDisplayContainer },\n",
       "        }).mount(&#34;#circuit-display-vue-container-&#34;+uid);\n",
       "    &lt;/script&gt;\n",
       "&lt;/body&gt;\n",
       "&lt;/html&gt;\n",
       "\"\n",
       "        width=\"100%\" height=\"200px\"\n",
       "        style=\"border: none; outline: none; resize: vertical; overflow: auto\"></iframe>\n",
       "\n"
      ],
      "text/plain": [
       "<IPython.core.display.HTML object>"
      ]
     },
     "metadata": {},
     "output_type": "display_data"
    }
   ],
   "source": [
    "from pytket.circuit.display import render_circuit_jupyter\n",
    "\n",
    "tket_circuit = train_circuits[17].to_tk()\n",
    "\n",
    "render_circuit_jupyter(tket_circuit)"
   ]
  },
  {
   "cell_type": "code",
   "execution_count": 14,
   "id": "1f6cde89-5e20-428a-8b4d-d6680ae5cd72",
   "metadata": {},
   "outputs": [],
   "source": [
    "from lambeq import NumpyModel, Model\n",
    "def cos_sim_2d(x, y):\n",
    "        norm_x = x / np.linalg.norm(x, axis=1, keepdims=True)\n",
    "        norm_y = y / np.linalg.norm(y, axis=1, keepdims=True)\n",
    "        return np.matmul(norm_x, norm_y.T)\n",
    "class ClassificationModel(NumpyModel): \n",
    "    right_prediction = 0\n",
    "    wrong_prediction = 0\n",
    "    def forward(self, Mytuple):\n",
    "        a = np.array(Mytuple)\n",
    "        y_hat = []\n",
    "        output1 = NumpyModel.get_diagram_output(self, diagrams=a[:, 0])\n",
    "        output2 = NumpyModel.get_diagram_output(self, diagrams=a[:, 1])\n",
    "        \n",
    "        similarity_matrix = cos_sim_2d(output1, output2)\n",
    "        y_hat = np.diagonal(similarity_matrix)\n",
    "        return np.array(y_hat)\n"
   ]
  },
  {
   "cell_type": "code",
   "execution_count": 15,
   "id": "7dca5527-7b13-48bc-9645-e0cabdc969a8",
   "metadata": {},
   "outputs": [],
   "source": [
    "\n",
    "#Model.initialize_weights()\n",
    "train_circuits2 = list(zip(train_s1_circuits , train_s2_circuits))\n",
    "test_circuits2 = list(zip(test_s1_circuits , test_s2_circuits))\n",
    "all_circuits = train_circuits2 + test_circuits2\n",
    "sentence1_circuits= [ seq[0] for seq in all_circuits]\n",
    "sentence2_circuits= [ seq[1] for seq in all_circuits]\n",
    "all_circuits = sentence1_circuits + sentence2_circuits\n",
    "model = ClassificationModel.from_diagrams(all_circuits_lst, use_jit=True)\n"
   ]
  },
  {
   "cell_type": "code",
   "execution_count": 16,
   "id": "a1be57e4-a111-4fe4-8d54-6e03d9371c42",
   "metadata": {},
   "outputs": [],
   "source": [
    "import numpy\n",
    "epsilon=numpy.finfo('float').eps\n",
    "loss = lambda y_hat, y: -np.sum(y * np.log(y_hat + epsilon)) / len(y)  # binary cross-entropy lossةخيثم\n",
    "acc = lambda y_hat, y: np.sum(np.round(y_hat) == y) / len(y) / 2  # half due to double-counting"
   ]
  },
  {
   "cell_type": "code",
   "execution_count": 17,
   "id": "bff2df83-df60-4555-922a-bcd6f94cfcc6",
   "metadata": {},
   "outputs": [],
   "source": [
    "from lambeq import QuantumTrainer, SPSAOptimizer\n",
    "\n",
    "trainer = QuantumTrainer(\n",
    "    model,\n",
    "    epochs=EPOCHS,\n",
    "    loss_function=loss,\n",
    "    optimizer=SPSAOptimizer,\n",
    "    optim_hyperparams={'a': 0.05, 'c': 0.06, 'A':0.01*EPOCHS},\n",
    "    evaluate_functions={'acc': acc},\n",
    "    evaluate_on_train=True,\n",
    "    verbose = 'text',\n",
    "    seed=0\n",
    ")"
   ]
  },
  {
   "cell_type": "code",
   "execution_count": 18,
   "id": "50ffb904-9f3a-411c-88bd-13ecd5facfe0",
   "metadata": {},
   "outputs": [],
   "source": [
    "from lambeq import Dataset\n",
    "\n",
    "train_dataset = Dataset(\n",
    "            train_circuits2,\n",
    "            train_labels,\n",
    "            batch_size=BATCH_SIZE)\n",
    "\n",
    "val_dataset = Dataset(test_circuits2, test_labels, shuffle=False)\n"
   ]
  },
  {
   "cell_type": "code",
   "execution_count": 19,
   "id": "23b19ae7-8733-43c7-a224-14509fd48ab1",
   "metadata": {},
   "outputs": [
    {
     "name": "stderr",
     "output_type": "stream",
     "text": [
      "Epoch 1:    train/loss: 0.0765   valid/loss: 0.0578   train/acc: 0.2750   valid/acc: 0.2500\n",
      "Epoch 12:   train/loss: 0.0453   valid/loss: 0.0344   train/acc: 0.2750   valid/acc: 0.2250\n",
      "Epoch 24:   train/loss: 0.0531   valid/loss: 0.0250   train/acc: 0.2750   valid/acc: 0.2250\n",
      "Epoch 36:   train/loss: 0.0546   valid/loss: 0.0136   train/acc: 0.2750   valid/acc: 0.2250\n",
      "Epoch 48:   train/loss: 0.0411   valid/loss: 0.0088   train/acc: 0.2750   valid/acc: 0.2250\n",
      "Epoch 60:   train/loss: 0.0334   valid/loss: 0.0078   train/acc: 0.2750   valid/acc: 0.2250\n",
      "Epoch 72:   train/loss: 0.0312   valid/loss: 0.0062   train/acc: 0.2750   valid/acc: 0.2250\n",
      "Epoch 84:   train/loss: 0.0285   valid/loss: 0.0061   train/acc: 0.2750   valid/acc: 0.2250\n",
      "Epoch 96:   train/loss: 0.0325   valid/loss: 0.0061   train/acc: 0.2750   valid/acc: 0.2250\n",
      "Epoch 108:  train/loss: 0.0242   valid/loss: 0.0063   train/acc: 0.2750   valid/acc: 0.2250\n",
      "Epoch 120:  train/loss: 0.0244   valid/loss: 0.0068   train/acc: 0.2750   valid/acc: 0.2250\n",
      "\n",
      "Training completed!\n"
     ]
    }
   ],
   "source": [
    "trainer.fit(train_dataset, val_dataset, logging_step=12)"
   ]
  },
  {
   "cell_type": "code",
   "execution_count": 20,
   "id": "1371026e-842f-4ba5-beda-cb144767cb7e",
   "metadata": {},
   "outputs": [
    {
     "name": "stdout",
     "output_type": "stream",
     "text": [
      "Test accuracy: 0.225\n"
     ]
    },
    {
     "data": {
      "image/png": "[encoded data removed]",
      "text/plain": [
       "<Figure size 720x432 with 4 Axes>"
      ]
     },
     "metadata": {
      "needs_background": "light"
     },
     "output_type": "display_data"
    }
   ],
   "source": [
    "import matplotlib.pyplot as plt\n",
    "\n",
    "fig, ((ax_tl, ax_tr), (ax_bl, ax_br)) = plt.subplots(2, 2, sharex=True, sharey='row', figsize=(10, 6))\n",
    "ax_tl.set_title('Training set')\n",
    "ax_tr.set_title('Development set')\n",
    "ax_bl.set_xlabel('Iterations')\n",
    "ax_br.set_xlabel('Iterations')\n",
    "ax_bl.set_ylabel('Accuracy')\n",
    "ax_tl.set_ylabel('Loss')\n",
    "\n",
    "colours = iter(plt.rcParams['axes.prop_cycle'].by_key()['color'])\n",
    "ax_tl.plot(trainer.train_epoch_costs, color=next(colours))\n",
    "ax_bl.plot(trainer.train_results['acc'], color=next(colours))\n",
    "ax_tr.plot(trainer.val_costs, color=next(colours))\n",
    "ax_br.plot(trainer.val_results['acc'], color=next(colours))\n",
    "\n",
    "test_acc = acc(model(test_circuits2), test_labels)\n",
    "print('Test accuracy:', test_acc)"
   ]
  },
  {
   "cell_type": "code",
   "execution_count": null,
   "id": "4e842e10-9fcc-4871-bba7-1c5e2bdce489",
   "metadata": {},
   "outputs": [],
   "source": []
  },
  {
   "cell_type": "code",
   "execution_count": null,
   "id": "6f086302-cbb8-4612-9e4f-b730eee9ed65",
   "metadata": {
    "tags": []
   },
   "outputs": [],
   "source": []
  },
  {
   "cell_type": "code",
   "execution_count": null,
   "id": "297f30c9-52a0-49a4-a7e4-2d5853a371b5",
   "metadata": {},
   "outputs": [],
   "source": []
  }
 ],
 "metadata": {
  "kernelspec": {
   "display_name": "Python 3 [Womanium]",
   "language": "python",
   "name": "python3_womanium_go14xk"
  },
  "language_info": {
   "codemirror_mode": {
    "name": "ipython",
    "version": 3
   },
   "file_extension": ".py",
   "mimetype": "text/x-python",
   "name": "python",
   "nbconvert_exporter": "python",
   "pygments_lexer": "ipython3",
   "version": "3.9.10"
  }
 },
 "nbformat": 4,
 "nbformat_minor": 5
}
